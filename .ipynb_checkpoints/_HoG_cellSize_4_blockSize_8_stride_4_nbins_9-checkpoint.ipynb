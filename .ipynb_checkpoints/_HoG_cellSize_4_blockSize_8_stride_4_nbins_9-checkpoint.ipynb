{
 "cells": [
  {
   "cell_type": "code",
   "execution_count": 3,
   "id": "afb9d170",
   "metadata": {},
   "outputs": [
    {
     "name": "stdout",
     "output_type": "stream",
     "text": [
      "Collecting opencv-python\n",
      "  Downloading opencv_python-4.10.0.84-cp37-abi3-macosx_11_0_arm64.whl.metadata (20 kB)\n",
      "Requirement already satisfied: numpy>=1.21.2 in /opt/anaconda3/lib/python3.11/site-packages (from opencv-python) (1.26.4)\n",
      "Downloading opencv_python-4.10.0.84-cp37-abi3-macosx_11_0_arm64.whl (54.8 MB)\n",
      "\u001b[2K   \u001b[90m━━━━━━━━━━━━━━━━━━━━━━━━━━━━━━━━━━━━━━━━\u001b[0m \u001b[32m54.8/54.8 MB\u001b[0m \u001b[31m2.6 MB/s\u001b[0m eta \u001b[36m0:00:00\u001b[0m00:01\u001b[0m00:01\u001b[0m\n",
      "\u001b[?25hInstalling collected packages: opencv-python\n",
      "Successfully installed opencv-python-4.10.0.84\n",
      "Note: you may need to restart the kernel to use updated packages.\n"
     ]
    }
   ],
   "source": [
    "pip install opencv-python"
   ]
  },
  {
   "cell_type": "code",
   "execution_count": null,
   "id": "c18d110a",
   "metadata": {},
   "outputs": [],
   "source": [
    "import cv2\n",
    "import numpy as np\n",
    "import matplotlib.pyplot as plt\n",
    "import matplotlib.cm as cm"
   ]
  },
  {
   "cell_type": "markdown",
   "id": "da180899",
   "metadata": {},
   "source": [
    "# Energy function by HoG"
   ]
  },
  {
   "cell_type": "code",
   "execution_count": null,
   "id": "a2a54c22",
   "metadata": {},
   "outputs": [],
   "source": [
    "def compute_energy_hog(image, params):\n",
    "    \"\"\"\n",
    "    Compute the energy of the image using Histogram of Oriented Gradients (HoG).\n",
    "    \"\"\"\n",
    "    gray = cv2.cvtColor(image, cv2.COLOR_BGR2GRAY)\n",
    "    dx = cv2.Sobel(gray, cv2.CV_64F, 1, 0, ksize=3)\n",
    "    dy = cv2.Sobel(gray, cv2.CV_64F, 0, 1, ksize=3)\n",
    "    gradient_magnitude = np.abs(dx) + np.abs(dy)\n",
    "    \n",
    "    # Extract HoG parameters from dictionary\n",
    "    cell_size = params['cell_size']\n",
    "    block_size = params['block_size']\n",
    "    stride = params['stride']\n",
    "    nbins = params['nbins']\n",
    "    \n",
    "    # Compute HoG with configurable parameters\n",
    "    hog = cv2.HOGDescriptor(\n",
    "        _winSize=(gray.shape[1] // cell_size[1] * cell_size[1], gray.shape[0] // cell_size[0] * cell_size[0]),\n",
    "        _blockSize=block_size,\n",
    "        _blockStride=stride,\n",
    "        _cellSize=cell_size,\n",
    "        _nbins=nbins\n",
    "    )\n",
    "    hog_features = hog.compute(gray).reshape(-1, nbins)\n",
    "\n",
    "    # Map HoG features back to the energy map size\n",
    "    energy_map = np.zeros_like(gradient_magnitude, dtype=np.float64)\n",
    "    for i in range(0, gray.shape[0] - cell_size[0] + 1, cell_size[0]):\n",
    "        for j in range(0, gray.shape[1] - cell_size[1] + 1, cell_size[1]):\n",
    "            idx = (i // cell_size[0]) * (gray.shape[1] // cell_size[1]) + (j // cell_size[1])\n",
    "            energy_map[i:i + cell_size[0], j:j + cell_size[1]] = np.mean(hog_features[idx])\n",
    "\n",
    "    # Normalize HoG energy to avoid division errors and scale for visualization\n",
    "    energy_map = np.clip(energy_map, 1e-6, np.percentile(energy_map, 99))  # Clip outliers for stability\n",
    "    e_hog = gradient_magnitude / energy_map\n",
    "    e_hog = np.clip(e_hog, 0, np.percentile(e_hog, 99))  # Normalize for visualization\n",
    "    return e_hog"
   ]
  },
  {
   "cell_type": "markdown",
   "id": "3a2a584c",
   "metadata": {},
   "source": [
    "# Finding the vertical seams "
   ]
  },
  {
   "cell_type": "code",
   "execution_count": null,
   "id": "f8a6bf86",
   "metadata": {},
   "outputs": [],
   "source": [
    "def find_vertical_seam(energy):\n",
    "    \"\"\"\n",
    "    Find the optimal vertical seam using dynamic programming.\n",
    "    \"\"\"\n",
    "    rows, cols = energy.shape\n",
    "    seam = np.zeros(rows, dtype=np.int32)\n",
    "    cost = np.copy(energy)\n",
    "\n",
    "    for i in range(1, rows):\n",
    "        for j in range(cols):\n",
    "            min_cost = cost[i - 1, j]\n",
    "            if j > 0:\n",
    "                min_cost = min(min_cost, cost[i - 1, j - 1])\n",
    "            if j < cols - 1:\n",
    "                min_cost = min(min_cost, cost[i - 1, j + 1])\n",
    "            cost[i, j] += min_cost\n",
    "\n",
    "    # Backtrack to find the seam\n",
    "    seam[rows - 1] = np.argmin(cost[-1])\n",
    "    for i in range(rows - 2, -1, -1):\n",
    "        prev_col = seam[i + 1]\n",
    "        offset = np.argmin(cost[i, max(0, prev_col - 1):min(cols, prev_col + 2)])\n",
    "        seam[i] = prev_col + offset - 1 if prev_col > 0 else offset\n",
    "\n",
    "    return seam"
   ]
  },
  {
   "cell_type": "markdown",
   "id": "f00cc3da",
   "metadata": {},
   "source": [
    "# Step to remove the vertical seam "
   ]
  },
  {
   "cell_type": "code",
   "execution_count": null,
   "id": "aecd9610",
   "metadata": {},
   "outputs": [],
   "source": [
    "def remove_vertical_seam(image, seam):\n",
    "    \"\"\"\n",
    "    Remove the identified vertical seam from the image.\n",
    "    \"\"\"\n",
    "    rows, cols, _ = image.shape\n",
    "    output = np.zeros((rows, cols - 1, 3), dtype=image.dtype)\n",
    "    for i in range(rows):\n",
    "        output[i, :, 0] = np.delete(image[i, :, 0], seam[i])\n",
    "        output[i, :, 1] = np.delete(image[i, :, 1], seam[i])\n",
    "        output[i, :, 2] = np.delete(image[i, :, 2], seam[i])\n",
    "    return output"
   ]
  },
  {
   "cell_type": "markdown",
   "id": "a0286f14",
   "metadata": {},
   "source": [
    "# Seam Carving"
   ]
  },
  {
   "cell_type": "code",
   "execution_count": null,
   "id": "ab12ac2f",
   "metadata": {},
   "outputs": [],
   "source": [
    "def seam_carve(image, num_seams):\n",
    "    \"\"\"\n",
    "    Seam carving main function to remove vertical seams using eHoG energy.\n",
    "    \"\"\"\n",
    "    for _ in range(num_seams):\n",
    "        energy = compute_energy_hog(image,params)\n",
    "        seam = find_vertical_seam(energy)\n",
    "        image = remove_vertical_seam(image, seam)\n",
    "    return image"
   ]
  },
  {
   "cell_type": "markdown",
   "id": "1f0efc5a",
   "metadata": {},
   "source": [
    "# Load and display the input image"
   ]
  },
  {
   "cell_type": "code",
   "execution_count": null,
   "id": "bc6f02c8",
   "metadata": {},
   "outputs": [],
   "source": [
    "input_image = cv2.imread('img/beach.jpg') \n",
    "input_image = cv2.cvtColor(input_image, cv2.COLOR_BGR2RGB)\n",
    "\n",
    "# Display the original image\n",
    "plt.figure(figsize=(10, 10))\n",
    "plt.title(\"Original Image\")\n",
    "plt.imshow(input_image)\n",
    "plt.axis(\"off\")\n",
    "plt.show()"
   ]
  },
  {
   "cell_type": "code",
   "execution_count": null,
   "id": "efc971ef",
   "metadata": {},
   "outputs": [],
   "source": [
    "original_width = input_image.shape[1]\n",
    "print(f\"Original Width: {original_width}\")"
   ]
  },
  {
   "cell_type": "markdown",
   "id": "8c52cfc8",
   "metadata": {},
   "source": [
    "Step 1: Define parameters"
   ]
  },
  {
   "cell_type": "code",
   "execution_count": null,
   "id": "0598c8d9",
   "metadata": {},
   "outputs": [],
   "source": [
    "params = {\n",
    "    'cell_size': (4, 4),\n",
    "    'block_size': (8, 8),\n",
    "    'stride': (4, 4),\n",
    "    'nbins': 9\n",
    "}"
   ]
  },
  {
   "cell_type": "markdown",
   "id": "d6cdbaa0",
   "metadata": {},
   "source": [
    "Step 2: Compute and show the energy map of the test image"
   ]
  },
  {
   "cell_type": "code",
   "execution_count": null,
   "id": "b4ab4d20",
   "metadata": {},
   "outputs": [],
   "source": [
    "energy_map = compute_energy_hog(\n",
    "    input_image,\n",
    "    params\n",
    ")\n",
    "\n",
    "# Display the energy map\n",
    "plt.figure(figsize=(10, 10))\n",
    "plt.title(\"Energy Map (eHoG) cellSize:4 blockSize:8 stride:4 nbins:9\")\n",
    "plt.imshow(energy_map)\n",
    "plt.colorbar()\n",
    "plt.axis(\"off\")\n",
    "plt.show()"
   ]
  },
  {
   "cell_type": "markdown",
   "id": "efdfcaa9",
   "metadata": {},
   "source": [
    "Step 3: Perform seam carving"
   ]
  },
  {
   "cell_type": "code",
   "execution_count": null,
   "id": "46be4c33",
   "metadata": {},
   "outputs": [],
   "source": [
    "num_seams_to_remove = int(input_image.shape[1] / 2)\n",
    "output_image = seam_carve(input_image, num_seams_to_remove)\n",
    "\n",
    "# Display the output image\n",
    "plt.figure(figsize=(10, 10))\n",
    "plt.title(\"Resized Image with cellSize:4 blockSize:8 stride:4 nbins:9\")\n",
    "plt.imshow(output_image)\n",
    "plt.axis(\"off\")\n",
    "plt.show()"
   ]
  },
  {
   "cell_type": "code",
   "execution_count": null,
   "id": "b950d8e2",
   "metadata": {},
   "outputs": [],
   "source": [
    "original_width = input_image.shape[1]\n",
    "output_width = output_image.shape[1]\n",
    "print(f\"Original Width: {original_width}, Resized Width: {output_width}\")"
   ]
  },
  {
   "cell_type": "code",
   "execution_count": null,
   "id": "d41a75d0",
   "metadata": {
    "scrolled": true
   },
   "outputs": [],
   "source": [
    "# Create a side-by-side comparison of the original resized image and the seam-carved result\n",
    "comparison_image = np.hstack((input_image, output_image))\n",
    "\n",
    "# Display the side-by-side comparison\n",
    "plt.figure(figsize=(15, 10))\n",
    "plt.title(\"Side-by-Side Comparison: Original (Left) vs Seam-Carved (Right)\")\n",
    "plt.imshow(comparison_image)\n",
    "plt.axis(\"off\")\n",
    "plt.show()\n"
   ]
  },
  {
   "cell_type": "code",
   "execution_count": null,
   "id": "a22a74f9",
   "metadata": {},
   "outputs": [],
   "source": []
  }
 ],
 "metadata": {
  "kernelspec": {
   "display_name": "Python 3 (ipykernel)",
   "language": "python",
   "name": "python3"
  },
  "language_info": {
   "codemirror_mode": {
    "name": "ipython",
    "version": 3
   },
   "file_extension": ".py",
   "mimetype": "text/x-python",
   "name": "python",
   "nbconvert_exporter": "python",
   "pygments_lexer": "ipython3",
   "version": "3.11.7"
  }
 },
 "nbformat": 4,
 "nbformat_minor": 5
}
